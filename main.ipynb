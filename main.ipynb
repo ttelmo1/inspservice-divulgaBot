{
 "cells": [
  {
   "cell_type": "code",
   "execution_count": null,
   "metadata": {},
   "outputs": [],
   "source": [
    "#Bot automatizado para divulgação de promoções"
   ]
  },
  {
   "cell_type": "code",
   "execution_count": 3,
   "metadata": {},
   "outputs": [],
   "source": [
    "from selenium import webdriver\n",
    "from selenium.webdriver.edge.service import Service\n",
    "from webdriver_manager.microsoft import EdgeChromiumDriverManager\n",
    "import time\n",
    "service = Service(EdgeChromiumDriverManager().install())\n",
    "nav = webdriver.Edge(service=service)\n",
    "\n",
    "nav.get('https://web.whatsapp.com/')\n",
    "time.sleep(40)"
   ]
  },
  {
   "cell_type": "code",
   "execution_count": 17,
   "metadata": {},
   "outputs": [],
   "source": [
    "from selenium.webdriver.common.keys import Keys\n",
    "import pyperclip\n",
    "\n",
    "message = \"\"\"Opa, tudo bom?\n",
    "Meu nome é T, sou um bot desenvolvido para te ajudar a automatizar processos.\n",
    "\"\"\"\n",
    "contactList = ['Meu número', 'Mateus', 'Os tops 123']\n",
    "\n",
    "clickSearchBar = nav.find_element('xpath', '//*[@id=\"side\"]/div[1]/div/div/button/div[2]/span').click()\n",
    "time.sleep(2)\n",
    "\n",
    "findContact = nav.find_element('xpath', '//*[@id=\"side\"]/div[1]/div/div/div[2]/div/div[1]/p').send_keys('Meu numero')\n",
    "time.sleep(2)\n",
    "\n",
    "selectContact = nav.find_element('xpath', '//*[@id=\"side\"]/div[1]/div/div/div[2]/div/div[1]/p').send_keys(Keys.ENTER)\n",
    "\n",
    "pyperclip.copy(message)\n",
    "writeMessage = nav.find_element('xpath', '//*[@id=\"main\"]/footer/div[1]/div/span[2]/div/div[2]/div[1]/div[2]/div[1]/p').send_keys(Keys.CONTROL + 'v')\n",
    "time.sleep(2)\n",
    "sendMessage = nav.find_element('xpath', '//*[@id=\"main\"]/footer/div[1]/div/span[2]/div/div[2]/div[1]/div[2]/div[1]/p').send_keys(Keys.ENTER)"
   ]
  },
  {
   "cell_type": "code",
   "execution_count": 18,
   "metadata": {},
   "outputs": [],
   "source": [
    "from selenium.webdriver.common.action_chains import ActionChains\n",
    "contactLength = len(contactList)\n",
    "\n",
    "if contactLength % 5 == 0:\n",
    "    messageBlocks = contactLength / 5\n",
    "else:\n",
    "    messageBlocks = int(contactLength / 5) + 1\n",
    "\n",
    "for i in range(int(messageBlocks)):\n",
    "    start_index = i * 5\n",
    "    end_index = (i + 1) * 5\n",
    "    contacts = contactList[start_index:end_index]\n",
    "\n",
    "    messageList = nav.find_elements('class name', '_2AOIt')\n",
    "    for item in messageList:\n",
    "        message = message.replace('\\n', '')\n",
    "        text = item.text.replace('\\n', '')\n",
    "        if message in text:\n",
    "            selectedMessage = item\n",
    "            break\n",
    "        \n",
    "    ActionChains(nav).move_to_element(selectedMessage).perform()\n",
    "    selectedMessage.find_element('class name', '_3u9t-').click()\n",
    "    time.sleep(2)\n",
    "    nav.find_element('xpath', '//*[@id=\"app\"]/div/span[4]/div/ul/div/li[3]/div').click()\n",
    "    nav.find_element('xpath', '//*[@id=\"main\"]/span[2]/div/button[4]/span').click()\n",
    "    time.sleep(2)\n",
    "\n",
    "    for name in contacts:\n",
    "        nav.find_element('xpath', '//*[@id=\"app\"]/div/span[2]/div/div/div/div/div/div/div/div[1]/div/div/div[2]/div/div[1]/p').send_keys(name)\n",
    "        time.sleep(1)\n",
    "        nav.find_element('xpath', '//*[@id=\"app\"]/div/span[2]/div/div/div/div/div/div/div/div[1]/div/div/div[2]/div/div[1]/p').send_keys(Keys.ENTER)\n",
    "        time.sleep(1)\n",
    "        nav.find_element('xpath', '//*[@id=\"app\"]/div/span[2]/div/div/div/div/div/div/div/div[1]/div/div/div[2]/div/div[1]/p').send_keys(Keys.BACKSPACE)\n",
    "        time.sleep(1)\n",
    "\n",
    "nav.find_element('xpath', '//*[@id=\"app\"]/div/span[2]/div/div/div/div/div/div/div/span/div/div/div/span').click()\n",
    "time.sleep(2)\n"
   ]
  }
 ],
 "metadata": {
  "kernelspec": {
   "display_name": "Python 3",
   "language": "python",
   "name": "python3"
  },
  "language_info": {
   "codemirror_mode": {
    "name": "ipython",
    "version": 3
   },
   "file_extension": ".py",
   "mimetype": "text/x-python",
   "name": "python",
   "nbconvert_exporter": "python",
   "pygments_lexer": "ipython3",
   "version": "3.11.5"
  },
  "orig_nbformat": 4
 },
 "nbformat": 4,
 "nbformat_minor": 2
}
